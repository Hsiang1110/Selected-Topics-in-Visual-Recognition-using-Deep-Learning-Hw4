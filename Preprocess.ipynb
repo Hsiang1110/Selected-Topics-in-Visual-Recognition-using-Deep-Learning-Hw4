{
 "cells": [
  {
   "cell_type": "code",
   "execution_count": 2,
   "metadata": {},
   "outputs": [],
   "source": [
    "import os\n",
    "import shutil"
   ]
  },
  {
   "cell_type": "code",
   "execution_count": null,
   "metadata": {},
   "outputs": [],
   "source": [
    "# 分割data\n",
    "Path = 'training_hr_images/'\n",
    "allFileList = os.listdir(Path)\n",
    "n = 0\n",
    "for file in allFileList:\n",
    "    newPath = 'pytorch-SRResNet/data/train/train{}/'.format(n//50)\n",
    "    if os.path.isfile(os.path.join(Path,file)):\n",
    "        print(os.path.join(Path,file))\n",
    "        shutil.move(os.path.join(Path,file), os.path.join(newPath,file))\n",
    "        n+=1\n",
    "        "
   ]
  },
  {
   "cell_type": "code",
   "execution_count": 3,
   "metadata": {},
   "outputs": [],
   "source": [
    "from PIL import Image\n",
    "import random"
   ]
  },
  {
   "cell_type": "code",
   "execution_count": null,
   "metadata": {},
   "outputs": [],
   "source": [
    "# Data Augmentation: flip rotate\n",
    "Path = 'VDSR-PyTorch/data/training_hr_images/'\n",
    "allFileList = os.listdir(Path)\n",
    "n = 0\n",
    "for file in allFileList:\n",
    "    if os.path.isfile(os.path.join(Path,file)):\n",
    "        print(os.path.join(Path,file))\n",
    "        # print(file.split('.',1)[0])\n",
    "        n_file = file.split('.',1)[0]\n",
    "        img = Image.open(os.path.join(Path,file))\n",
    "        new = img.transpose(Image.FLIP_LEFT_RIGHT)\n",
    "        new.save(os.path.join(Path,file)+'_hf.png')\n",
    "        new = img.transpose(Image.FLIP_TOP_BOTTOM)\n",
    "        new.save(os.path.join(Path,file)+'_vf.png')\n",
    "        for i in range(4):\n",
    "            new = img.rotate(random.random()*360)\n",
    "            new.save(os.path.join(Path,file)+'_rotate{}.png'.format(str(i+1)))"
   ]
  },
  {
   "cell_type": "code",
   "execution_count": null,
   "metadata": {},
   "outputs": [],
   "source": [
    "from PIL import Image, ImageEnhance, ImageOps, ImageFile\n",
    "import numpy as np\n",
    "# Data Augmentation: change brightness, color, contrast\n",
    "def randomColor(image):\n",
    "        random_factor = np.random.randint(0, 31) / 10. \n",
    "        color_image = ImageEnhance.Color(image).enhance(random_factor)  \n",
    "        random_factor = np.random.randint(10, 21) / 10.  \n",
    "        brightness_image = ImageEnhance.Brightness(color_image).enhance(random_factor)  \n",
    "        random_factor = np.random.randint(10, 21) / 10.  \n",
    "        contrast_image = ImageEnhance.Contrast(brightness_image).enhance(random_factor)  \n",
    "        random_factor = np.random.randint(0, 31) / 10.  \n",
    "        return ImageEnhance.Sharpness(contrast_image).enhance(random_factor)  \n",
    "Path = 'VDSR-PyTorch/data/training_hr_images/'\n",
    "allFileList = os.listdir(Path)\n",
    "n = 0\n",
    "for file in allFileList:\n",
    "    if os.path.isfile(os.path.join(Path,file)):\n",
    "        print(os.path.join(Path,file))\n",
    "        # print(file.split('.',1)[0])\n",
    "        n_file = file.split('.',1)[0]\n",
    "        img = Image.open(os.path.join(Path,file))\n",
    "        new = randomColor(img)\n",
    "        new.save(os.path.join(Path,file)+'_color.png')"
   ]
  },
  {
   "cell_type": "code",
   "execution_count": 24,
   "metadata": {},
   "outputs": [],
   "source": [
    "# Resize x3\n",
    "im = Image.open('pytorch-vdsr/testing_lr_images/00.png')\n",
    "im = im.resize((3*im.width, 3*im.height),Image.BICUBIC)\n",
    "im.save('pytorch-vdsr/output/00x3.png')\n",
    "im.save('pytorch-vdsr/output/00x3_scale_3.png')"
   ]
  }
 ],
 "metadata": {
  "kernelspec": {
   "display_name": "Python 3",
   "language": "python",
   "name": "python3"
  },
  "language_info": {
   "codemirror_mode": {
    "name": "ipython",
    "version": 3
   },
   "file_extension": ".py",
   "mimetype": "text/x-python",
   "name": "python",
   "nbconvert_exporter": "python",
   "pygments_lexer": "ipython3",
   "version": "3.8.5"
  }
 },
 "nbformat": 4,
 "nbformat_minor": 4
}
